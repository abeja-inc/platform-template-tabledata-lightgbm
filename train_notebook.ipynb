{
 "cells": [
  {
   "cell_type": "markdown",
   "metadata": {
    "tags": [
     "remove_cell"
    ]
   },
   "source": [
    "## Note\n",
    "This notebook is a copy of `train.py` with some modifications. This notebook can be run on ABEJA Platform's Jupyter Notebook. If you want to run this on your local machine, set these environment variables.\n",
    "\n",
    "| env | type | description |\n",
    "| --- | --- | --- |\n",
    "| ABEJA_ORGANIZATION_ID | str | Your organization ID. |\n",
    "| ABEJA_PLATFORM_USER_ID | str | Your user ID. |\n",
    "| ABEJA_PLATFORM_PERSONAL_ACCESS_TOKEN | str | Your Access Token. |"
   ]
  },
  {
   "cell_type": "markdown",
   "metadata": {
    "tags": [
     "remove_cell"
    ]
   },
   "source": [
    "## Step 0: Preparations"
   ]
  },
  {
   "cell_type": "code",
   "execution_count": null,
   "metadata": {
    "tags": [
     "remove_cell"
    ]
   },
   "outputs": [],
   "source": [
    "!pip install -r requirements.txt"
   ]
  },
  {
   "cell_type": "markdown",
   "metadata": {
    "tags": [
     "remove_cell"
    ]
   },
   "source": [
    "## Step 1: Write your code here!"
   ]
  },
  {
   "cell_type": "code",
   "execution_count": null,
   "metadata": {
    "tags": [
     "remove_cell"
    ]
   },
   "outputs": [],
   "source": [
    "# You MUST set these parameters.\n",
    "# If you want to change the configurations, you MUST set environment variables in this cell.\n",
    "\n",
    "import os\n",
    "\n",
    "os.environ['DATALAKE_CHANNEL_ID'] = 'xxx'\n",
    "os.environ['DATALAKE_TRAIN_FILE_ID'] = 'xxx'\n",
    "# os.environ['DATALAKE_VAL_FILE_ID'] = 'xxx'\n",
    "# os.environ['INPUT_FIELDS'] = 'var_1,var_2,var_3'\n",
    "os.environ['LABEL_FIELD'] = 'target'\n",
    "\n",
    "from parameters import Parameters"
   ]
  },
  {
   "cell_type": "code",
   "execution_count": null,
   "metadata": {},
   "outputs": [],
   "source": [
    "import os\n",
    "import json\n",
    "from pathlib import Path\n",
    "\n",
    "import lightgbm as lgb\n",
    "from tensorboardX import SummaryWriter\n",
    "\n",
    "from callbacks import Statistics, TensorBoardCallback\n",
    "from data_loader import train_data_loader\n",
    "from parameters import Parameters\n",
    "\n",
    "\n",
    "ABEJA_STORAGE_DIR_PATH = os.getenv('ABEJA_STORAGE_DIR_PATH', '~/.abeja/.cache')\n",
    "ABEJA_TRAINING_RESULT_DIR = os.getenv('ABEJA_TRAINING_RESULT_DIR', 'abejainc_training_result')\n",
    "Path(ABEJA_TRAINING_RESULT_DIR).mkdir(exist_ok=True)\n",
    "\n",
    "DATALAKE_CHANNEL_ID = Parameters.DATALAKE_CHANNEL_ID\n",
    "DATALAKE_TRAIN_FILE_ID = Parameters.DATALAKE_TRAIN_FILE_ID\n",
    "DATALAKE_VAL_FILE_ID = Parameters.DATALAKE_VAL_FILE_ID\n",
    "INPUT_FIELDS = Parameters.INPUT_FIELDS\n",
    "LABEL_FIELD = Parameters.LABEL_FIELD\n",
    "PARAMS = Parameters.as_params()\n",
    "\n",
    "STRATIFIED = True if Parameters.STRATIFIED and Parameters.IS_CLASSIFICATION else False\n",
    "IS_MULTI = Parameters.OBJECTIVE.startswith(\"multi\")\n",
    "\n",
    "statistics = Statistics(Parameters.NUM_ITERATIONS)\n",
    "\n",
    "log_path = os.path.join(ABEJA_TRAINING_RESULT_DIR, 'logs')\n",
    "writer = SummaryWriter(log_dir=log_path)"
   ]
  },
  {
   "cell_type": "code",
   "execution_count": null,
   "metadata": {},
   "outputs": [],
   "source": [
    "class ModelExtractionCallback(object):\n",
    "    \"\"\"\n",
    "    original author : momijiame\n",
    "    ref : https://blog.amedama.jp/entry/lightgbm-cv-model\n",
    "    description : Class for callback to extract trained models from lightgbm.cv(). \n",
    "    note: This class depends on private class '_CVBooster', so there are some future risks. \n",
    "    \n",
    "    usage:\n",
    "        extraction_cb = ModelExtractionCallback()\n",
    "        callbacks = [extraction_cb,]\n",
    "    \n",
    "        lgb.cv(params, dtrain, nfold=5, \n",
    "               num_boost_round=9999,\n",
    "               early_stopping_rounds=EARLY_STOPPING_ROUNDS,\n",
    "               verbose_eval=verbose_eval,\n",
    "               callbacks=callbacks,\n",
    "               seed=0)\n",
    "        \n",
    "        models = extraction_cb.raw_boosters\n",
    "    \n",
    "    \"\"\"\n",
    "\n",
    "    def __init__(self):\n",
    "        self._model = None\n",
    "\n",
    "    def __call__(self, env):\n",
    "        # _CVBooster の参照を保持する\n",
    "        self._model = env.model\n",
    "\n",
    "    def _assert_called_cb(self):\n",
    "        if self._model is None:\n",
    "            # コールバックが呼ばれていないときは例外にする\n",
    "            raise RuntimeError('callback has not called yet')\n",
    "\n",
    "    @property\n",
    "    def boosters_proxy(self):\n",
    "        self._assert_called_cb()\n",
    "        # Booster へのプロキシオブジェクトを返す\n",
    "        return self._model\n",
    "\n",
    "    @property\n",
    "    def raw_boosters(self):\n",
    "        self._assert_called_cb()\n",
    "        # Booster のリストを返す\n",
    "        return self._model.boosters\n",
    "\n",
    "    @property\n",
    "    def best_iteration(self):\n",
    "        self._assert_called_cb()\n",
    "        # Early stop したときの boosting round を返す\n",
    "        return self._model.best_iteration"
   ]
  },
  {
   "cell_type": "code",
   "execution_count": null,
   "metadata": {},
   "outputs": [],
   "source": [
    "print(f'start training with parameters : {Parameters.as_dict()}')"
   ]
  },
  {
   "cell_type": "code",
   "execution_count": null,
   "metadata": {},
   "outputs": [],
   "source": [
    "X_train, y_train, cols_train = train_data_loader(\n",
    "    DATALAKE_CHANNEL_ID, DATALAKE_TRAIN_FILE_ID, LABEL_FIELD, INPUT_FIELDS)"
   ]
  },
  {
   "cell_type": "code",
   "execution_count": null,
   "metadata": {
    "tags": [
     "remove_cell"
    ]
   },
   "outputs": [],
   "source": [
    "X_train.head()"
   ]
  },
  {
   "cell_type": "code",
   "execution_count": null,
   "metadata": {
    "tags": [
     "remove_cell"
    ]
   },
   "outputs": [],
   "source": [
    "y_train"
   ]
  },
  {
   "cell_type": "code",
   "execution_count": null,
   "metadata": {},
   "outputs": [],
   "source": [
    "dtrain = lgb.Dataset(X_train, y_train)\n",
    "\n",
    "if DATALAKE_VAL_FILE_ID:\n",
    "    X_val, y_val, _ = train_data_loader(\n",
    "        DATALAKE_CHANNEL_ID, DATALAKE_VAL_FILE_ID, LABEL_FIELD, INPUT_FIELDS)\n",
    "else:\n",
    "    X_val, y_val = None, None\n",
    "\n",
    "extraction_cb = ModelExtractionCallback()\n",
    "tensorboard_cb = TensorBoardCallback(statistics, writer)\n",
    "tensorboard_cb.set_valid(X_val, y_val, Parameters.IS_CLASSIFICATION, IS_MULTI, Parameters.NUM_CLASS)\n",
    "callbacks = [extraction_cb, tensorboard_cb,]"
   ]
  },
  {
   "cell_type": "code",
   "execution_count": null,
   "metadata": {},
   "outputs": [],
   "source": [
    "lgb.cv(PARAMS, dtrain, nfold=Parameters.NFOLD,\n",
    "       early_stopping_rounds=Parameters.EARLY_STOPPING_ROUNDS,\n",
    "       verbose_eval=Parameters.VERBOSE_EVAL,\n",
    "       stratified=STRATIFIED,\n",
    "       callbacks=callbacks,\n",
    "       metrics=Parameters.METRIC,\n",
    "       seed=Parameters.SEED)"
   ]
  },
  {
   "cell_type": "code",
   "execution_count": null,
   "metadata": {},
   "outputs": [],
   "source": [
    "models = extraction_cb.raw_boosters\n",
    "for i,model in enumerate(models):\n",
    "    model.save_model(os.path.join(ABEJA_TRAINING_RESULT_DIR, f'model_{i}.txt'))\n",
    "\n",
    "di = {\n",
    "    **(Parameters.as_dict()),\n",
    "    'cols_train': cols_train\n",
    "}\n",
    "lgb_env = open(os.path.join(ABEJA_TRAINING_RESULT_DIR, 'lgb_env.json'), 'w')\n",
    "json.dump(di, lgb_env)\n",
    "lgb_env.close()"
   ]
  },
  {
   "cell_type": "code",
   "execution_count": null,
   "metadata": {},
   "outputs": [],
   "source": [
    "def handler(context):\n",
    "    print(\"finish.\")"
   ]
  },
  {
   "cell_type": "markdown",
   "metadata": {
    "tags": [
     "remove_cell"
    ]
   },
   "source": [
    "## Step 2: Run this on ABEJA Platform\n",
    "After finishing your debugging, now you are ready to run this on ABEJA Platform. Run below commands."
   ]
  },
  {
   "cell_type": "markdown",
   "metadata": {
    "tags": [
     "remove_cell"
    ]
   },
   "source": [
    "### Convert this to python file"
   ]
  },
  {
   "cell_type": "code",
   "execution_count": null,
   "metadata": {
    "scrolled": true,
    "tags": [
     "remove_cell"
    ]
   },
   "outputs": [],
   "source": [
    "import os\n",
    "from IPython.display import display, HTML\n",
    "\n",
    "js = \"\"\"<script>IPython.notebook.kernel.execute(\"file_name=('\" + IPython.notebook.notebook_name + \"')\");</script>\"\"\"\n",
    "display(HTML(js))"
   ]
  },
  {
   "cell_type": "code",
   "execution_count": null,
   "metadata": {
    "tags": [
     "remove_cell"
    ]
   },
   "outputs": [],
   "source": [
    "os.environ['FILE_NAME'] = file_name"
   ]
  },
  {
   "cell_type": "code",
   "execution_count": null,
   "metadata": {
    "tags": [
     "remove_cell"
    ]
   },
   "outputs": [],
   "source": [
    "!jupyter nbconvert $FILE_NAME --TagRemovePreprocessor.enabled=True --TagRemovePreprocessor.remove_cell_tags='[\"remove_cell\"]' --to python"
   ]
  },
  {
   "cell_type": "markdown",
   "metadata": {
    "tags": [
     "remove_cell"
    ]
   },
   "source": [
    "### Throw your job!\n",
    "You can check your job status on ABEJA Platform."
   ]
  },
  {
   "cell_type": "code",
   "execution_count": null,
   "metadata": {
    "tags": [
     "remove_cell"
    ]
   },
   "outputs": [],
   "source": [
    "import os\n",
    "from abeja.train import APIClient\n",
    "\n",
    "api = APIClient()"
   ]
  },
  {
   "cell_type": "code",
   "execution_count": null,
   "metadata": {
    "tags": [
     "remove_cell"
    ]
   },
   "outputs": [],
   "source": [
    "_organization_id = os.environ['ABEJA_ORGANIZATION_ID']\n",
    "_job_definition_name = os.environ['TRAINING_JOB_DEFINITION_NAME']\n",
    "_handler = \"{}:handler\".format(os.environ['FILE_NAME'][:-6])\n",
    "_image = \"abeja-inc/all-gpu:19.04\"\n",
    "_description = \"initial version\"\n",
    "_environment = Parameters.as_env()\n",
    "_environment"
   ]
  },
  {
   "cell_type": "code",
   "execution_count": null,
   "metadata": {
    "tags": [
     "remove_cell"
    ]
   },
   "outputs": [],
   "source": [
    "_files = [\n",
    "    'callbacks.py',\n",
    "    'data_loader.py',\n",
    "    'parameters.py',\n",
    "    'requirements.txt',\n",
    "    '{}.py'.format(os.environ['FILE_NAME'][:-6]),\n",
    "    'utils.py'\n",
    "]"
   ]
  },
  {
   "cell_type": "code",
   "execution_count": null,
   "metadata": {
    "tags": [
     "remove_cell"
    ]
   },
   "outputs": [],
   "source": [
    "# Register current codes\n",
    "version = api.create_training_job_definition_version(\n",
    "    organization_id=_organization_id, job_definition_name=_job_definition_name, filepaths=_files, \n",
    "    handler=_handler, image=_image, environment=_environment, description=_description)\n",
    "version"
   ]
  },
  {
   "cell_type": "code",
   "execution_count": null,
   "metadata": {
    "tags": [
     "remove_cell"
    ]
   },
   "outputs": [],
   "source": [
    "# Run job\n",
    "# You can run job in parallel for hyperparameter tuning. Each request creates a training job\n",
    "# at ABEJA Platform\n",
    "\n",
    "user_parameters = {}\n",
    "job = api.create_training_job(\n",
    "    organization_id=_organization_id, job_definition_name=_job_definition_name, \n",
    "    version_id=version['job_definition_version'], user_parameters=user_parameters)\n",
    "job"
   ]
  },
  {
   "cell_type": "code",
   "execution_count": null,
   "metadata": {},
   "outputs": [],
   "source": []
  }
 ],
 "metadata": {
  "celltoolbar": "Tags",
  "kernelspec": {
   "display_name": "Python 3",
   "language": "python",
   "name": "python3"
  },
  "language_info": {
   "codemirror_mode": {
    "name": "ipython",
    "version": 3
   },
   "file_extension": ".py",
   "mimetype": "text/x-python",
   "name": "python",
   "nbconvert_exporter": "python",
   "pygments_lexer": "ipython3",
   "version": "3.6.7"
  }
 },
 "nbformat": 4,
 "nbformat_minor": 2
}